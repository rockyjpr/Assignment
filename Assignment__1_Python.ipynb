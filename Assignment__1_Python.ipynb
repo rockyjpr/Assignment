{
 "cells": [
  {
   "cell_type": "markdown",
   "id": "3937443f-dc5a-482d-be4f-d5f5c855dd7f",
   "metadata": {},
   "source": [
    "## Assignment__1_Python_Assignment|"
   ]
  },
  {
   "cell_type": "markdown",
   "id": "35d39b7e-b5f2-4b06-a069-f4ce71ac64de",
   "metadata": {},
   "source": [
    " Q1 - Explain with an example each when to use a for loop and a while loop."
   ]
  },
  {
   "cell_type": "markdown",
   "id": "02d86b8b-055c-42c6-8ecc-35f00ef3e2a7",
   "metadata": {},
   "source": [
    "A for loop is useful when you know exactly how many times you want to execute a block of code. For example, if you want to print the numbers from 1 to 10, you can use a for loop like this:"
   ]
  },
  {
   "cell_type": "raw",
   "id": "bafa9b27-ab99-4df1-a582-5a4b2205295f",
   "metadata": {},
   "source": [
    "for (initialization; condition; iteration):\n",
    "    body of the 'for' loop\n",
    "Syntax - for i in range(start, end, step of iteration):\n",
    "                Body\n",
    "         for i in container(start, end, step of iteration):\n",
    "                Body\n",
    "                \n"
   ]
  },
  {
   "cell_type": "code",
   "execution_count": 1,
   "id": "58a17047-a74f-46ac-a35e-47ec367f2443",
   "metadata": {},
   "outputs": [
    {
     "name": "stdout",
     "output_type": "stream",
     "text": [
      "1 2 3 4 5 6 7 8 9 "
     ]
    }
   ],
   "source": [
    "for i in range(1,10,1):\n",
    "    print(i,end=\" \")"
   ]
  },
  {
   "cell_type": "markdown",
   "id": "0118b741-4b28-4a8a-9dfd-8d48cb14dd70",
   "metadata": {},
   "source": [
    "A while loop is useful when you don't know exactly how many times you need to execute a block of code, but you do know the condition that needs to be met to stop. For example, if you want to keep asking the user for input until they enter a valid answer, you can use a while loop like this:"
   ]
  },
  {
   "cell_type": "raw",
   "id": "85fbc85b-ae73-4f66-aaf2-d084c6b82e72",
   "metadata": {},
   "source": [
    "initialization\n",
    "while ( condition) :\n",
    "   statements;\n",
    "   //body of the loop   \n",
    "step of iteration\n",
    "n = int(input(\"Enter your Number\"))    \n",
    "i =1 \n",
    "while i<=n:\n",
    "    print(i,end=\" \")\n",
    "i =i+1\n"
   ]
  },
  {
   "cell_type": "raw",
   "id": "b44e45e6",
   "metadata": {},
   "source": [
    "Q2. Write a python program to print the sum and product of the first 10 natural numbers using for\n",
    "and while loop."
   ]
  },
  {
   "cell_type": "code",
   "execution_count": 9,
   "id": "0869faa3-95cb-491a-9653-a57ec47087b1",
   "metadata": {},
   "outputs": [
    {
     "name": "stdout",
     "output_type": "stream",
     "text": [
      "Enter your Number10\n",
      "sum -: 55\n",
      "prod-: 3628800\n"
     ]
    }
   ],
   "source": [
    "n= int(input(\"Enter your Number\"))\n",
    "sum = 0\n",
    "prod = 1\n",
    "for i in range(1,n+1):\n",
    "    sum = sum +i \n",
    "    prod = prod * i\n",
    "print(\"sum -:\",sum)\n",
    "print(\"prod-:\",prod)\n"
   ]
  },
  {
   "cell_type": "markdown",
   "id": "e9877d4d",
   "metadata": {},
   "source": [
    "Q3. Create a python program to compute the electricity bill for a household.\n",
    "The per-unit charges in rupees are as follows: For the first 100 units, the user will be charged Rs. 4.5 per\n",
    "unit, for the next 100 units, the user will be charged Rs. 6 per unit, and for the next 100 units, the user will\n",
    "be charged Rs. 10 per unit, After 300 units and above the user will be charged Rs. 20 per unit.\n",
    "You are required to take the units of electricity consumed in a month from the user as input.\n",
    "Your program must pass this test case: when the unit of electricity consumed by the user in a month is\n",
    "310, the total electricity bill should be 2250."
   ]
  },
  {
   "cell_type": "code",
   "execution_count": 13,
   "id": "9127d07a",
   "metadata": {},
   "outputs": [
    {
     "name": "stdout",
     "output_type": "stream",
     "text": [
      "Enter the number of units consumed: 310\n",
      "Electricity bill: Rs. 2250.0\n"
     ]
    }
   ],
   "source": [
    "units = int(input(\"Enter the number of units consumed: \"))\n",
    "\n",
    "if units <= 100:\n",
    "    rate = 4.5\n",
    "    bill = units * rate\n",
    "elif units <= 200:\n",
    "    rate = 6\n",
    "    bill = 100 * 4.5 + (units - 100) * rate\n",
    "elif units <= 300:\n",
    "    rate = 10\n",
    "    bill = 100 * 4.5 + 100 * 6 + (units - 200) * rate\n",
    "else:\n",
    "    rate = 20\n",
    "    bill = 100 * 4.5 + 100 * 6 + 100 * 10 + (units - 300) * rate\n",
    "\n",
    "print(\"Electricity bill: Rs.\", bill)\n"
   ]
  },
  {
   "cell_type": "markdown",
   "id": "919fa1fd",
   "metadata": {},
   "source": [
    "Q4. Create a list of numbers from 1 to 100. Use for loop and while loop to calculate the cube of each\n",
    "number and if the cube of that number is divisible by 4 or 5 then append that number in a list and print\n",
    "that list."
   ]
  },
  {
   "cell_type": "code",
   "execution_count": 16,
   "id": "5043684f",
   "metadata": {},
   "outputs": [
    {
     "name": "stdout",
     "output_type": "stream",
     "text": [
      "Enter your Number100\n",
      "[2, 4, 5, 6, 8, 10, 12, 14, 15, 16, 18, 20, 22, 24, 25, 26, 28, 30, 32, 34, 35, 36, 38, 40, 42, 44, 45, 46, 48, 50, 52, 54, 55, 56, 58, 60, 62, 64, 65, 66, 68, 70, 72, 74, 75, 76, 78, 80, 82, 84, 85, 86, 88, 90, 92, 94, 95, 96, 98, 100]\n"
     ]
    }
   ],
   "source": [
    "n= int(input(\"Enter your Number\"))\n",
    "cubes = []\n",
    "for i in range(1, n+1):\n",
    "    cube = i ** 3\n",
    "    if cube % 4 == 0 or cube % 5 == 0:\n",
    "        cubes.append(i)\n",
    "print(cubes)\n"
   ]
  },
  {
   "cell_type": "raw",
   "id": "c2083106",
   "metadata": {},
   "source": [
    "Q5 - Write a program to filter count vowels in the below-given string.\n",
    "string = \"I want to become a data scientist\""
   ]
  },
  {
   "cell_type": "code",
   "execution_count": 18,
   "id": "8425e087",
   "metadata": {},
   "outputs": [
    {
     "name": "stdout",
     "output_type": "stream",
     "text": [
      "The number of vowels in the string is: 12\n"
     ]
    }
   ],
   "source": [
    "string = \"I want to become a data scientist\"\n",
    "vowels = \"aeiouAEIOU\"\n",
    "count = 0\n",
    "\n",
    "for char in string:\n",
    "    if char in vowels:\n",
    "        count += 1\n",
    "\n",
    "print(\"The number of vowels in the string is:\", count)\n"
   ]
  },
  {
   "cell_type": "code",
   "execution_count": 20,
   "id": "24f86719",
   "metadata": {},
   "outputs": [
    {
     "name": "stdout",
     "output_type": "stream",
     "text": [
      "Thankyou So much For Giving your valuable Time\n"
     ]
    }
   ],
   "source": [
    "print(\"Thankyou So much For Giving your valuable Time\")"
   ]
  },
  {
   "cell_type": "code",
   "execution_count": null,
   "id": "d82eba3f",
   "metadata": {},
   "outputs": [],
   "source": []
  }
 ],
 "metadata": {
  "kernelspec": {
   "display_name": "Python 3 (ipykernel)",
   "language": "python",
   "name": "python3"
  },
  "language_info": {
   "codemirror_mode": {
    "name": "ipython",
    "version": 3
   },
   "file_extension": ".py",
   "mimetype": "text/x-python",
   "name": "python",
   "nbconvert_exporter": "python",
   "pygments_lexer": "ipython3",
   "version": "3.9.13"
  }
 },
 "nbformat": 4,
 "nbformat_minor": 5
}
